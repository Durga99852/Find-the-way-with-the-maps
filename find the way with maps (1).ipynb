{
 "cells": [
  {
   "cell_type": "code",
   "execution_count": 1,
   "id": "8bc02de9",
   "metadata": {},
   "outputs": [
    {
     "name": "stdout",
     "output_type": "stream",
     "text": [
      "original list: (1, 2, 3, 4, 5, 6, 7)\n",
      "\n",
      " Triple of said list numbers:\n",
      "[3, 6, 9, 12, 15, 18, 21]\n"
     ]
    }
   ],
   "source": [
    "list1 = (1,2,3,4,5,6,7)     # define as a list\n",
    "result = map(lambda x:x + x + x, list1)    \n",
    "print(\"original list:\",list1)\n",
    "print(\"\\n Triple of said list numbers:\")      #print the list after applying the lambda, map functions\n",
    "print(list(result))"
   ]
  },
  {
   "cell_type": "code",
   "execution_count": null,
   "id": "630e42f9",
   "metadata": {},
   "outputs": [],
   "source": []
  },
  {
   "cell_type": "raw",
   "id": "b0438322",
   "metadata": {},
   "source": [
    "#test cases"
   ]
  },
  {
   "cell_type": "code",
   "execution_count": 2,
   "id": "a995fbf5",
   "metadata": {},
   "outputs": [
    {
     "name": "stdout",
     "output_type": "stream",
     "text": [
      "original list: (1, 45, 0.65, -43, 345)\n",
      "\n",
      " Triple of said list numbers:\n",
      "[3, 135, 1.9500000000000002, -129, 1035]\n"
     ]
    }
   ],
   "source": [
    "list1 = (1,45,0.65,-43,345)     # define as a list\n",
    "result = map(lambda x:x + x + x, list1)    \n",
    "print(\"original list:\",list1)\n",
    "print(\"\\n Triple of said list numbers:\")      #print the list after applying the lambda, map functions\n",
    "print(list(result))"
   ]
  },
  {
   "cell_type": "code",
   "execution_count": null,
   "id": "4faa7f2e",
   "metadata": {},
   "outputs": [],
   "source": []
  },
  {
   "cell_type": "raw",
   "id": "4c36f6d3",
   "metadata": {},
   "source": [
    "#test cases"
   ]
  },
  {
   "cell_type": "code",
   "execution_count": 3,
   "id": "9e1e6075",
   "metadata": {},
   "outputs": [
    {
     "name": "stdout",
     "output_type": "stream",
     "text": [
      "original list: (3, 4, 7, 11, 26, 39)\n",
      "\n",
      " Triple of said list numbers:\n",
      "[9, 12, 21, 33, 78, 117]\n"
     ]
    }
   ],
   "source": [
    "list1 = (3,4,7,11,26,39)     # define as a list\n",
    "result = map(lambda x:x + x + x, list1)    \n",
    "print(\"original list:\",list1)\n",
    "print(\"\\n Triple of said list numbers:\")      #print the list after applying the lambda, map functions\n",
    "print(list(result))"
   ]
  },
  {
   "cell_type": "code",
   "execution_count": null,
   "id": "c24737a7",
   "metadata": {},
   "outputs": [],
   "source": []
  }
 ],
 "metadata": {
  "kernelspec": {
   "display_name": "Python 3 (ipykernel)",
   "language": "python",
   "name": "python3"
  },
  "language_info": {
   "codemirror_mode": {
    "name": "ipython",
    "version": 3
   },
   "file_extension": ".py",
   "mimetype": "text/x-python",
   "name": "python",
   "nbconvert_exporter": "python",
   "pygments_lexer": "ipython3",
   "version": "3.10.0"
  }
 },
 "nbformat": 4,
 "nbformat_minor": 5
}
